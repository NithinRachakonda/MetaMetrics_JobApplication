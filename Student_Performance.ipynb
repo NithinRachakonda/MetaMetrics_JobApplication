{
 "cells": [
  {
   "cell_type": "markdown",
   "id": "8ec10a73",
   "metadata": {},
   "source": [
    "### Importing Necessary Packages"
   ]
  },
  {
   "cell_type": "code",
   "execution_count": null,
   "id": "969294aa",
   "metadata": {
    "vscode": {
     "languageId": "r"
    }
   },
   "outputs": [],
   "source": [
    "library(tidyverse)"
   ]
  },
  {
   "cell_type": "markdown",
   "id": "32be5e5f",
   "metadata": {},
   "source": [
    "#### Reading data (I created sample data for this job application)"
   ]
  },
  {
   "cell_type": "code",
   "execution_count": null,
   "id": "76daef9d",
   "metadata": {
    "vscode": {
     "languageId": "r"
    }
   },
   "outputs": [],
   "source": [
    "df <- read.csv(\"Sample.csv\", stringsAsFactors = FALSE)"
   ]
  },
  {
   "cell_type": "markdown",
   "id": "f8572f69",
   "metadata": {},
   "source": [
    "#### Seperating Student Id from the dataset"
   ]
  },
  {
   "cell_type": "code",
   "execution_count": null,
   "id": "23bb5bf7",
   "metadata": {
    "vscode": {
     "languageId": "r"
    }
   },
   "outputs": [],
   "source": [
    "id_col  <- df[[1]]\n",
    "items   <- df[ , -1]\n"
   ]
  },
  {
   "cell_type": "markdown",
   "id": "6349ac4d",
   "metadata": {},
   "source": [
    "#### Defining the Key (I assigned a random key for this application)"
   ]
  },
  {
   "cell_type": "code",
   "execution_count": null,
   "id": "14f40a91",
   "metadata": {
    "vscode": {
     "languageId": "r"
    }
   },
   "outputs": [],
   "source": [
    "key <- c(1,0,1,1,0,1,0,1,0,1)"
   ]
  },
  {
   "cell_type": "markdown",
   "id": "a0c6ef34",
   "metadata": {},
   "source": [
    "#### Evaluation\n",
    "Computing the correct and wrong answers by comparing each student value with the key"
   ]
  },
  {
   "cell_type": "code",
   "execution_count": null,
   "id": "e3d836ce",
   "metadata": {
    "vscode": {
     "languageId": "r"
    }
   },
   "outputs": [],
   "source": [
    "correct_mat <- as.data.frame(sweep(items, 2, key, FUN = \"==\")) %>%\n",
    "  mutate(across(everything(), as.integer))"
   ]
  },
  {
   "cell_type": "markdown",
   "id": "f6c1cbb0",
   "metadata": {},
   "source": [
    "Building student summary"
   ]
  },
  {
   "cell_type": "code",
   "execution_count": null,
   "id": "dbd3095c",
   "metadata": {
    "vscode": {
     "languageId": "r"
    }
   },
   "outputs": [
    {
     "name": "stdout",
     "output_type": "stream",
     "text": [
      "\u001b[90m# A tibble: 10 × 6\u001b[39m\n",
      "   StudentID Total Percent Zscore  Rank Proficiency  \n",
      "   \u001b[3m\u001b[90m<chr>\u001b[39m\u001b[23m     \u001b[3m\u001b[90m<dbl>\u001b[39m\u001b[23m   \u001b[3m\u001b[90m<dbl>\u001b[39m\u001b[23m  \u001b[3m\u001b[90m<dbl>\u001b[39m\u001b[23m \u001b[3m\u001b[90m<int>\u001b[39m\u001b[23m \u001b[3m\u001b[90m<chr>\u001b[39m\u001b[23m        \n",
      "\u001b[90m 1\u001b[39m S003          7     0.7  1.52      1 Proficient   \n",
      "\u001b[90m 2\u001b[39m S008          7     0.7  1.52      2 Proficient   \n",
      "\u001b[90m 3\u001b[39m S001          5     0.5  0.254     3 Basic        \n",
      "\u001b[90m 4\u001b[39m S005          5     0.5  0.254     4 Basic        \n",
      "\u001b[90m 5\u001b[39m S010          5     0.5  0.254     5 Basic        \n",
      "\u001b[90m 6\u001b[39m S004          4     0.4 -\u001b[31m0\u001b[39m\u001b[31m.\u001b[39m\u001b[31m380\u001b[39m     6 Needs Support\n",
      "\u001b[90m 7\u001b[39m S006          4     0.4 -\u001b[31m0\u001b[39m\u001b[31m.\u001b[39m\u001b[31m380\u001b[39m     7 Needs Support\n",
      "\u001b[90m 8\u001b[39m S007          4     0.4 -\u001b[31m0\u001b[39m\u001b[31m.\u001b[39m\u001b[31m380\u001b[39m     8 Needs Support\n",
      "\u001b[90m 9\u001b[39m S009          3     0.3 -\u001b[31m1\u001b[39m\u001b[31m.\u001b[39m\u001b[31m0\u001b[39m\u001b[31m1\u001b[39m      9 Needs Support\n",
      "\u001b[90m10\u001b[39m S002          2     0.2 -\u001b[31m1\u001b[39m\u001b[31m.\u001b[39m\u001b[31m65\u001b[39m     10 Needs Support\n"
     ]
    }
   ],
   "source": [
    "student_summary <- tibble(\n",
    "  StudentID   = id_col,\n",
    "  Total       = rowSums(correct_mat, na.rm = TRUE),\n",
    "  Percent     = rowMeans(correct_mat, na.rm = TRUE),\n",
    "  Zscore      = as.numeric(scale(rowSums(correct_mat, na.rm = TRUE))) # I included Z score because it gives a clear picture of a student reformance relatively rathar than absolutely.\n",
    ") %>%\n",
    "  arrange(desc(Total)) %>%\n",
    "  mutate(\n",
    "    Rank = row_number(), \n",
    "    Proficiency = case_when(\n",
    "      Percent >= 0.90 ~ \"Excellent\",\n",
    "      Percent >= 0.70 ~ \"Proficient\",\n",
    "      Percent >= 0.50 ~ \"Basic\",\n",
    "      TRUE            ~ \"Needs Support\"\n",
    "    )\n",
    "  )\n",
    "\n",
    "# Printing the summary\n",
    "print(student_summary)\n",
    "\n"
   ]
  },
  {
   "cell_type": "markdown",
   "id": "cdf119e1",
   "metadata": {},
   "source": [
    "#### Visualizing the Insights"
   ]
  },
  {
   "cell_type": "markdown",
   "id": "262eca13",
   "metadata": {},
   "source": [
    "1) Score distribution"
   ]
  },
  {
   "cell_type": "code",
   "execution_count": null,
   "id": "aeac1c18",
   "metadata": {
    "vscode": {
     "languageId": "r"
    }
   },
   "outputs": [
    {
     "data": {
      "image/png": "[encoded data removed]",
      "text/plain": [
       "plot without title"
      ]
     },
     "metadata": {
      "image/png": {
       "height": 420,
       "width": 420
      }
     },
     "output_type": "display_data"
    }
   ],
   "source": [
    "ggplot(student_summary, aes(x = Total)) +\n",
    "  geom_histogram(binwidth = 1) +\n",
    "  labs(title = \"Total Score Distribution\", x = \"Total Correct (out of 10)\", y = \"Count\")\n",
    "\n"
   ]
  },
  {
   "cell_type": "markdown",
   "id": "b113dbc2",
   "metadata": {},
   "source": [
    "Percent by student (ordered in ascending order)\n",
    "\n",
    "- If we need in descending order we can just do reorder(StudentID, -Percent), I chose ascending because I used to look at my students performance when I was a TA in this way."
   ]
  },
  {
   "cell_type": "code",
   "execution_count": null,
   "id": "34c30ec8",
   "metadata": {
    "vscode": {
     "languageId": "r"
    }
   },
   "outputs": [
    {
     "data": {
      "image/png": "[encoded data removed]",
      "text/plain": [
       "plot without title"
      ]
     },
     "metadata": {
      "image/png": {
       "height": 420,
       "width": 420
      }
     },
     "output_type": "display_data"
    }
   ],
   "source": [
    "ggplot(student_summary, aes(x = reorder(StudentID, Percent), y = Percent)) + \n",
    "  geom_col() +\n",
    "  coord_flip() +\n",
    "  scale_y_continuous(labels = scales::percent) +\n",
    "  labs(title = \"Percent Correct by Student\", x = \"Student\", y = \"Percent Correct\")\n",
    "\n"
   ]
  },
  {
   "cell_type": "markdown",
   "id": "87229e8f",
   "metadata": {},
   "source": [
    "Students with exceptional grades and students who need private sessions"
   ]
  },
  {
   "cell_type": "code",
   "execution_count": null,
   "id": "8c8913d0",
   "metadata": {
    "vscode": {
     "languageId": "r"
    }
   },
   "outputs": [
    {
     "name": "stdout",
     "output_type": "stream",
     "text": [
      "\u001b[90m# A tibble: 3 × 6\u001b[39m\n",
      "  StudentID Total Percent Zscore  Rank Proficiency\n",
      "  \u001b[3m\u001b[90m<chr>\u001b[39m\u001b[23m     \u001b[3m\u001b[90m<dbl>\u001b[39m\u001b[23m   \u001b[3m\u001b[90m<dbl>\u001b[39m\u001b[23m  \u001b[3m\u001b[90m<dbl>\u001b[39m\u001b[23m \u001b[3m\u001b[90m<int>\u001b[39m\u001b[23m \u001b[3m\u001b[90m<chr>\u001b[39m\u001b[23m      \n",
      "\u001b[90m1\u001b[39m S003          7     0.7  1.52      1 Proficient \n",
      "\u001b[90m2\u001b[39m S008          7     0.7  1.52      2 Proficient \n",
      "\u001b[90m3\u001b[39m S001          5     0.5  0.254     3 Basic      \n",
      "\u001b[90m# A tibble: 3 × 6\u001b[39m\n",
      "  StudentID Total Percent Zscore  Rank Proficiency  \n",
      "  \u001b[3m\u001b[90m<chr>\u001b[39m\u001b[23m     \u001b[3m\u001b[90m<dbl>\u001b[39m\u001b[23m   \u001b[3m\u001b[90m<dbl>\u001b[39m\u001b[23m  \u001b[3m\u001b[90m<dbl>\u001b[39m\u001b[23m \u001b[3m\u001b[90m<int>\u001b[39m\u001b[23m \u001b[3m\u001b[90m<chr>\u001b[39m\u001b[23m        \n",
      "\u001b[90m1\u001b[39m S007          4     0.4 -\u001b[31m0\u001b[39m\u001b[31m.\u001b[39m\u001b[31m380\u001b[39m     8 Needs Support\n",
      "\u001b[90m2\u001b[39m S009          3     0.3 -\u001b[31m1\u001b[39m\u001b[31m.\u001b[39m\u001b[31m0\u001b[39m\u001b[31m1\u001b[39m      9 Needs Support\n",
      "\u001b[90m3\u001b[39m S002          2     0.2 -\u001b[31m1\u001b[39m\u001b[31m.\u001b[39m\u001b[31m65\u001b[39m     10 Needs Support\n"
     ]
    }
   ],
   "source": [
    "top5    <- head(student_summary, 3)\n",
    "bottom5 <- tail(student_summary, 3)\n",
    "print(top5)\n",
    "print(bottom5)"
   ]
  },
  {
   "cell_type": "markdown",
   "id": "b142ba65",
   "metadata": {},
   "source": [
    "Writing the summary into csv file to store the results"
   ]
  },
  {
   "cell_type": "code",
   "execution_count": 14,
   "id": "b3de8349",
   "metadata": {
    "vscode": {
     "languageId": "r"
    }
   },
   "outputs": [],
   "source": [
    "write.csv(student_summary, \"student_performance_summary.csv\", row.names = FALSE)"
   ]
  }
 ],
 "metadata": {
  "kernelspec": {
   "display_name": "R",
   "language": "R",
   "name": "ir"
  },
  "language_info": {
   "codemirror_mode": "r",
   "file_extension": ".r",
   "mimetype": "text/x-r-source",
   "name": "R",
   "pygments_lexer": "r",
   "version": "4.5.1"
  }
 },
 "nbformat": 4,
 "nbformat_minor": 5
}
